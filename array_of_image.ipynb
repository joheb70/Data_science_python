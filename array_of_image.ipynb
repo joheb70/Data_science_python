{
 "cells": [
  {
   "cell_type": "code",
   "execution_count": 66,
   "id": "9e2bd481",
   "metadata": {},
   "outputs": [],
   "source": [
    "#Use of Numpy & open cv to convert images into numpy arrays\n",
    "\n",
    "import numpy\n",
    "number = numpy.arange(81)"
   ]
  },
  {
   "cell_type": "code",
   "execution_count": 67,
   "id": "ad6bf145",
   "metadata": {},
   "outputs": [
    {
     "data": {
      "text/plain": [
       "array([[[ 0,  1,  2],\n",
       "        [ 3,  4,  5],\n",
       "        [ 6,  7,  8]],\n",
       "\n",
       "       [[ 9, 10, 11],\n",
       "        [12, 13, 14],\n",
       "        [15, 16, 17]],\n",
       "\n",
       "       [[18, 19, 20],\n",
       "        [21, 22, 23],\n",
       "        [24, 25, 26]],\n",
       "\n",
       "       [[27, 28, 29],\n",
       "        [30, 31, 32],\n",
       "        [33, 34, 35]],\n",
       "\n",
       "       [[36, 37, 38],\n",
       "        [39, 40, 41],\n",
       "        [42, 43, 44]],\n",
       "\n",
       "       [[45, 46, 47],\n",
       "        [48, 49, 50],\n",
       "        [51, 52, 53]],\n",
       "\n",
       "       [[54, 55, 56],\n",
       "        [57, 58, 59],\n",
       "        [60, 61, 62]],\n",
       "\n",
       "       [[63, 64, 65],\n",
       "        [66, 67, 68],\n",
       "        [69, 70, 71]],\n",
       "\n",
       "       [[72, 73, 74],\n",
       "        [75, 76, 77],\n",
       "        [78, 79, 80]]])"
      ]
     },
     "execution_count": 67,
     "metadata": {},
     "output_type": "execute_result"
    }
   ],
   "source": [
    "number.reshape(9,3,3)  #Matrix creation"
   ]
  },
  {
   "cell_type": "code",
   "execution_count": 68,
   "id": "46455707",
   "metadata": {},
   "outputs": [],
   "source": [
    "import cv2\n",
    "from PIL import Image"
   ]
  },
  {
   "cell_type": "code",
   "execution_count": 69,
   "id": "3488a8cf",
   "metadata": {
    "scrolled": true
   },
   "outputs": [
    {
     "data": {
      "text/plain": [
       "['.git',\n",
       " '.gitattributes',\n",
       " '.ipynb_checkpoints',\n",
       " 'App and Pages',\n",
       " 'Basic',\n",
       " 'keyboard-shortcuts-windows.pdf',\n",
       " 'self.jpg',\n",
       " 'smallgray.png',\n",
       " 'temps_today.csv',\n",
       " 'Untitled.ipynb']"
      ]
     },
     "execution_count": 69,
     "metadata": {},
     "output_type": "execute_result"
    }
   ],
   "source": [
    "import os\n",
    "os.listdir()"
   ]
  },
  {
   "cell_type": "code",
   "execution_count": 70,
   "id": "fddf614f",
   "metadata": {},
   "outputs": [
    {
     "name": "stdout",
     "output_type": "stream",
     "text": [
      "(956, 956)\n"
     ]
    }
   ],
   "source": [
    "small_image =Image.open('self.jpg')\n",
    "print(small_image.size)\n",
    "\n"
   ]
  },
  {
   "cell_type": "code",
   "execution_count": 71,
   "id": "4e31c669",
   "metadata": {},
   "outputs": [
    {
     "data": {
      "text/plain": [
       "array([[187, 158, 104, 121, 143],\n",
       "       [198, 125, 255, 255, 147],\n",
       "       [209, 134, 255,  97, 182]], dtype=uint8)"
      ]
     },
     "execution_count": 71,
     "metadata": {},
     "output_type": "execute_result"
    }
   ],
   "source": [
    " #255 in the array in white\n",
    "#the number in the array represents color intensity value \n",
    "im_g=cv2.imread(\"smallgray.png\",0) \n",
    "im_g"
   ]
  },
  {
   "cell_type": "code",
   "execution_count": 78,
   "id": "8a1eb78a",
   "metadata": {},
   "outputs": [
    {
     "name": "stdout",
     "output_type": "stream",
     "text": [
      "[[187 158 104 121 143 187 158 104 121 143 187 158 104 121 143]\n",
      " [198 125 255 255 147 198 125 255 255 147 198 125 255 255 147]\n",
      " [209 134 255  97 182 209 134 255  97 182 209 134 255  97 182]]\n"
     ]
    }
   ],
   "source": [
    "#Horizontal stacking\n",
    "#Tuple is used since this method only take one argument\n",
    "im_g1=numpy.hstack((im_g,im_g,im_g))\n",
    "print(im_g1)\n"
   ]
  },
  {
   "cell_type": "code",
   "execution_count": null,
   "id": "ca27d098",
   "metadata": {},
   "outputs": [],
   "source": []
  },
  {
   "cell_type": "code",
   "execution_count": null,
   "id": "eb94815b",
   "metadata": {},
   "outputs": [],
   "source": []
  }
 ],
 "metadata": {
  "kernelspec": {
   "display_name": "Python 3 (ipykernel)",
   "language": "python",
   "name": "python3"
  },
  "language_info": {
   "codemirror_mode": {
    "name": "ipython",
    "version": 3
   },
   "file_extension": ".py",
   "mimetype": "text/x-python",
   "name": "python",
   "nbconvert_exporter": "python",
   "pygments_lexer": "ipython3",
   "version": "3.8.3"
  }
 },
 "nbformat": 4,
 "nbformat_minor": 5
}
